{
 "cells": [
  {
   "cell_type": "code",
   "execution_count": 1,
   "metadata": {},
   "outputs": [],
   "source": [
    "import pandas as pd\n",
    "import numpy as np\n",
    "import math\n",
    "import seaborn as sns\n",
    "import matplotlib.pyplot as plt\n",
    "plt.style.use('fivethirtyeight')\n",
    "import pandas_profiling as pds\n",
    "from sklearn.feature_extraction.text import TfidfVectorizer\n",
    "import scipy as sc\n",
    "import ast\n",
    "from scipy.sparse import hstack"
   ]
  },
  {
   "cell_type": "code",
   "execution_count": 2,
   "metadata": {},
   "outputs": [],
   "source": [
    "from sklearn import svm\n",
    "from sklearn.model_selection import train_test_split,cross_val_score, ShuffleSplit, GridSearchCV\n",
    "from sklearn.feature_extraction.text import *\n",
    "from sklearn.linear_model import LogisticRegression\n",
    "from sklearn.ensemble import RandomForestClassifier\n",
    "from sklearn.metrics import confusion_matrix, classification_report\n",
    "from sklearn.naive_bayes import *\n",
    "from mlxtend.plotting import plot_confusion_matrix\n",
    "from mlxtend.evaluate import confusion_matrix"
   ]
  },
  {
   "cell_type": "code",
   "execution_count": 3,
   "metadata": {},
   "outputs": [],
   "source": [
    "data = pd.read_json('noduplicatedataset.json',lines=True)\n",
    "data.drop('id',axis=1, inplace=True)\n",
    "data.rename(columns = {'lista_asm': 'Instructions', 'cfg': 'FlowGraphs' ,'semantic' : 'Class'}, inplace = True)"
   ]
  },
  {
   "cell_type": "code",
   "execution_count": 4,
   "metadata": {},
   "outputs": [],
   "source": [
    "# pds.ProfileReport(data)"
   ]
  },
  {
   "cell_type": "code",
   "execution_count": 5,
   "metadata": {},
   "outputs": [
    {
     "data": {
      "text/plain": [
       "\"['jmp qword ptr [rip + 0x220882]', 'jmp qword ptr [rip + 0x220832]', 'jmp qword ptr [rip + 0x220822]', 'push rbp', 'mov rbp, rsp', 'mov dword ptr [rbp - 4], edi', 'cmp dword ptr [rbp - 4], 8', 'jge 0x1d', 'push rbp', 'mov rbp, rsp', 'sub rsp, 0x20', 'mov qword ptr [rbp - 0x10], rdi', 'cmp qword ptr [rbp - 0x10], 0', 'je 0x34', 'mov rax, qword ptr [rbp - 0x10]', 'cmp dword ptr [rax + 4], 0', 'jl 0x1d', 'mov rax, qword ptr [rbp - 0x10]', 'cmp qword ptr [rax + 8], 0', 'jne 0x1c', 'mov qword ptr [rbp - 8], 0', 'jmp 0x108', 'mov eax, 0x10', 'mov edi, eax', 'call 0xfffffffffffec70f', 'mov qword ptr [rbp - 0x18], rax', 'cmp qword ptr [rbp - 0x18], 0', 'jne 0x1c', 'mov qword ptr [rbp - 8], 0', 'jmp 0xe0', 'mov rax, qword ptr [rbp - 0x10]', 'mov ecx, dword ptr [rax + 4]', 'mov dword ptr [rbp - 0x1c], ecx', 'mov ecx, dword ptr [rbp - 0x1c]', 'add ecx, 1', 'mov edi, ecx', 'call 0xfffffffffffff6b7', 'mov dword ptr [rbp - 0x20], eax', 'movsxd rdi, dword ptr [rbp - 0x20]', 'call 0xfffffffffffec6d0', 'mov rdi, qword ptr [rbp - 0x18]', 'mov qword ptr [rdi + 8], rax', 'mov rax, qword ptr [rbp - 0x18]', 'cmp qword ptr [rax + 8], 0', 'jne 0x5e', 'mov eax, dword ptr [rbp - 0x1c]', 'add eax, 1', 'mov dword ptr [rbp - 0x20], eax', 'movsxd rdi, dword ptr [rbp - 0x20]', 'call 0xfffffffffffec6ad', 'mov rdi, qword ptr [rbp - 0x18]', 'mov qword ptr [rdi + 8], rax', 'mov rax, qword ptr [rbp - 0x18]', 'cmp qword ptr [rax + 8], 0', 'jne 0x30', 'mov rax, qword ptr [rbp - 0x18]', 'mov rdi, rax', 'call 0xfffffffffffec5c4', 'mov qword ptr [rbp - 8], 0', 'jmp 0x64', 'jmp 5', 'mov eax, dword ptr [rbp - 0x20]', 'mov rcx, qword ptr [rbp - 0x18]', 'mov dword ptr [rcx], eax', 'mov eax, dword ptr [rbp - 0x1c]', 'mov rcx, qword ptr [rbp - 0x18]', 'mov dword ptr [rcx + 4], eax', 'cmp dword ptr [rbp - 0x1c], 0', 'je 0x36', 'mov rax, qword ptr [rbp - 0x18]', 'mov rdi, qword ptr [rax + 8]', 'mov rax, qword ptr [rbp - 0x10]', 'mov rsi, qword ptr [rax + 8]', 'movsxd rdx, dword ptr [rbp - 0x1c]', 'call 0xfffffffffffec629', 'mov rax, qword ptr [rbp - 0x18]', 'movsxd rax, dword ptr [rax + 4]', 'mov rcx, qword ptr [rbp - 0x18]', 'mov rcx, qword ptr [rcx + 8]', 'mov byte ptr [rcx + rax], 0', 'mov rax, qword ptr [rbp - 0x18]', 'mov qword ptr [rbp - 8], rax', 'mov rax, qword ptr [rbp - 8]', 'add rsp, 0x20', 'pop rbp', 'ret ', 'mov rax, qword ptr [rbp - 8]', 'add rsp, 0x20', 'pop rbp', 'ret ']\""
      ]
     },
     "execution_count": 5,
     "metadata": {},
     "output_type": "execute_result"
    }
   ],
   "source": [
    "data[data['Class']=='string']['Instructions'][0]"
   ]
  },
  {
   "cell_type": "code",
   "execution_count": 6,
   "metadata": {},
   "outputs": [
    {
     "data": {
      "text/plain": [
       "\"['jmp qword ptr [rip + 0x200ba2]', 'jmp qword ptr [rip + 0x200b9a]', 'jmp qword ptr [rip + 0x200b8a]', 'push r14', 'push rbx', 'sub rsp, 0x38', 'mov edi, 0x400704', 'xor eax, eax', 'call 0xfffffffffffffee0', 'lea rsi, [rsp + 0xc]', 'mov edi, 0x400734', 'xor eax, eax', 'call 0xfffffffffffffeed', 'mov edi, 0x400740', 'call 0xfffffffffffffeac', 'cmp dword ptr [rsp + 0xc], 0', 'jle 0x9f', 'lea r14, [rsp + 0x10]', 'xor ebx, ebx', 'mov edi, 0x400734', 'xor eax, eax', 'mov rsi, r14', 'call 0xfffffffffffffec7', 'mov edi, 0x400734', 'xor eax, eax', 'mov rsi, r14', 'call 0xfffffffffffffec0', 'inc rbx', 'movsxd rax, dword ptr [rsp + 0xc]', 'add r14, 4', 'cmp rbx, rax', 'jl 0xfffffffffffffff1', 'test eax, eax', 'jle 0x6d', 'xor ecx, ecx', 'nop word ptr cs:[rax + rax]', 'test ecx, ecx', 'je 0x3c', 'test ecx, ecx', 'je 0x30', 'movsxd rdx, ecx', 'mov esi, dword ptr [rsp + rdx*4 + 0xc]', 'mov edi, dword ptr [rsp + rdx*4 + 0x10]', 'cmp esi, edi', 'jle 0x2c', 'dec ecx', 'lea rbx, [rdx - 1]', 'mov dword ptr [rsp + rbx*4 + 0x10], edi', 'mov dword ptr [rsp + rdx*4 + 0x10], esi', 'jmp 0x1f', 'inc ecx', 'cmp ecx, eax', 'jl 0xffffffffffffffd0', 'cmp ecx, eax', 'jl 0xffffffffffffffce', 'test eax, eax', 'jle 0x27', 'xor ebx, ebx', 'nop dword ptr [rax]', 'mov esi, dword ptr [rsp + rbx*4 + 0x10]', 'mov edi, 0x400737', 'xor eax, eax', 'call 0xfffffffffffffe36', 'mov esi, dword ptr [rsp + rbx*4 + 0x10]', 'mov edi, 0x400737', 'xor eax, eax', 'call 0xfffffffffffffe30', 'inc rbx', 'movsxd rax, dword ptr [rsp + 0xc]', 'cmp rbx, rax', 'jl 0xfffffffffffffff0', 'add rsp, 0x38', 'pop rbx', 'pop r14', 'ret ']\""
      ]
     },
     "execution_count": 6,
     "metadata": {},
     "output_type": "execute_result"
    }
   ],
   "source": [
    "data[data['Class']=='sort']['Instructions'][4]"
   ]
  },
  {
   "cell_type": "code",
   "execution_count": 7,
   "metadata": {},
   "outputs": [
    {
     "data": {
      "text/html": [
       "<div>\n",
       "<style scoped>\n",
       "    .dataframe tbody tr th:only-of-type {\n",
       "        vertical-align: middle;\n",
       "    }\n",
       "\n",
       "    .dataframe tbody tr th {\n",
       "        vertical-align: top;\n",
       "    }\n",
       "\n",
       "    .dataframe thead th {\n",
       "        text-align: right;\n",
       "    }\n",
       "</style>\n",
       "<table border=\"1\" class=\"dataframe\">\n",
       "  <thead>\n",
       "    <tr style=\"text-align: right;\">\n",
       "      <th></th>\n",
       "      <th>Class</th>\n",
       "      <th>Instructions</th>\n",
       "      <th>FlowGraphs</th>\n",
       "    </tr>\n",
       "  </thead>\n",
       "  <tbody>\n",
       "    <tr>\n",
       "      <th>0</th>\n",
       "      <td>string</td>\n",
       "      <td>['jmp qword ptr [rip + 0x220882]', 'jmp qword ...</td>\n",
       "      <td>{'directed': True, 'graph': [], 'nodes': [{'id...</td>\n",
       "    </tr>\n",
       "    <tr>\n",
       "      <th>1</th>\n",
       "      <td>math</td>\n",
       "      <td>['ucomisd xmm2, xmm2', 'jp 0x40', 'ucomisd xmm...</td>\n",
       "      <td>{'directed': True, 'graph': [], 'nodes': [{'id...</td>\n",
       "    </tr>\n",
       "    <tr>\n",
       "      <th>2</th>\n",
       "      <td>encryption</td>\n",
       "      <td>['push rbx', 'mov r8d, ecx', 'mov qword ptr [r...</td>\n",
       "      <td>{'directed': True, 'graph': [], 'nodes': [{'id...</td>\n",
       "    </tr>\n",
       "    <tr>\n",
       "      <th>3</th>\n",
       "      <td>math</td>\n",
       "      <td>['mov qword ptr [rsp - 0x10], rbx', 'mov qword...</td>\n",
       "      <td>{'directed': True, 'graph': [], 'nodes': [{'id...</td>\n",
       "    </tr>\n",
       "    <tr>\n",
       "      <th>4</th>\n",
       "      <td>sort</td>\n",
       "      <td>['jmp qword ptr [rip + 0x200ba2]', 'jmp qword ...</td>\n",
       "      <td>{'directed': True, 'graph': [], 'nodes': [{'id...</td>\n",
       "    </tr>\n",
       "    <tr>\n",
       "      <th>...</th>\n",
       "      <td>...</td>\n",
       "      <td>...</td>\n",
       "      <td>...</td>\n",
       "    </tr>\n",
       "    <tr>\n",
       "      <th>6068</th>\n",
       "      <td>math</td>\n",
       "      <td>['push rbp', 'mov rbp, rsp', 'sub rsp, 0x50', ...</td>\n",
       "      <td>{'directed': True, 'graph': [], 'nodes': [{'id...</td>\n",
       "    </tr>\n",
       "    <tr>\n",
       "      <th>6069</th>\n",
       "      <td>sort</td>\n",
       "      <td>['push r15', 'push r14', 'push r13', 'push r12...</td>\n",
       "      <td>{'directed': True, 'graph': [], 'nodes': [{'id...</td>\n",
       "    </tr>\n",
       "    <tr>\n",
       "      <th>6070</th>\n",
       "      <td>encryption</td>\n",
       "      <td>['test rdx, rdx', 'push rbx', 'je 0x115', 'tes...</td>\n",
       "      <td>{'directed': True, 'graph': [], 'nodes': [{'id...</td>\n",
       "    </tr>\n",
       "    <tr>\n",
       "      <th>6071</th>\n",
       "      <td>math</td>\n",
       "      <td>['push rbp', 'mov rbp, rsp', 'sub rsp, 0x50', ...</td>\n",
       "      <td>{'directed': True, 'graph': [], 'nodes': [{'id...</td>\n",
       "    </tr>\n",
       "    <tr>\n",
       "      <th>6072</th>\n",
       "      <td>sort</td>\n",
       "      <td>['push rbp', 'push r15', 'push r14', 'push r13...</td>\n",
       "      <td>{'directed': True, 'graph': [], 'nodes': [{'id...</td>\n",
       "    </tr>\n",
       "  </tbody>\n",
       "</table>\n",
       "<p>6073 rows × 3 columns</p>\n",
       "</div>"
      ],
      "text/plain": [
       "           Class                                       Instructions  \\\n",
       "0         string  ['jmp qword ptr [rip + 0x220882]', 'jmp qword ...   \n",
       "1           math  ['ucomisd xmm2, xmm2', 'jp 0x40', 'ucomisd xmm...   \n",
       "2     encryption  ['push rbx', 'mov r8d, ecx', 'mov qword ptr [r...   \n",
       "3           math  ['mov qword ptr [rsp - 0x10], rbx', 'mov qword...   \n",
       "4           sort  ['jmp qword ptr [rip + 0x200ba2]', 'jmp qword ...   \n",
       "...          ...                                                ...   \n",
       "6068        math  ['push rbp', 'mov rbp, rsp', 'sub rsp, 0x50', ...   \n",
       "6069        sort  ['push r15', 'push r14', 'push r13', 'push r12...   \n",
       "6070  encryption  ['test rdx, rdx', 'push rbx', 'je 0x115', 'tes...   \n",
       "6071        math  ['push rbp', 'mov rbp, rsp', 'sub rsp, 0x50', ...   \n",
       "6072        sort  ['push rbp', 'push r15', 'push r14', 'push r13...   \n",
       "\n",
       "                                             FlowGraphs  \n",
       "0     {'directed': True, 'graph': [], 'nodes': [{'id...  \n",
       "1     {'directed': True, 'graph': [], 'nodes': [{'id...  \n",
       "2     {'directed': True, 'graph': [], 'nodes': [{'id...  \n",
       "3     {'directed': True, 'graph': [], 'nodes': [{'id...  \n",
       "4     {'directed': True, 'graph': [], 'nodes': [{'id...  \n",
       "...                                                 ...  \n",
       "6068  {'directed': True, 'graph': [], 'nodes': [{'id...  \n",
       "6069  {'directed': True, 'graph': [], 'nodes': [{'id...  \n",
       "6070  {'directed': True, 'graph': [], 'nodes': [{'id...  \n",
       "6071  {'directed': True, 'graph': [], 'nodes': [{'id...  \n",
       "6072  {'directed': True, 'graph': [], 'nodes': [{'id...  \n",
       "\n",
       "[6073 rows x 3 columns]"
      ]
     },
     "execution_count": 7,
     "metadata": {},
     "output_type": "execute_result"
    }
   ],
   "source": [
    "data"
   ]
  },
  {
   "cell_type": "code",
   "execution_count": 8,
   "metadata": {},
   "outputs": [],
   "source": [
    "stored =[]\n",
    "for v in  data['FlowGraphs']:\n",
    "    nodes = v.get('nodes')\n",
    "    adjacency = v.get('adjacency')\n",
    "    length_node = len(nodes)\n",
    "    double_adjaceny = []\n",
    "    single_adjacency = []\n",
    "    for x in adjacency:\n",
    "        try:\n",
    "            double_adjaceny.append((x[0]['id'],x[1]['id'])[0])\n",
    "            \n",
    "        except:\n",
    "            if len(x)!=0:\n",
    "                single_adjacency.append(x[0]['id'])\n",
    "    try:\n",
    "        x = length_node/len(double_adjaceny)\n",
    "    except:\n",
    "        x= 0\n",
    "    try:\n",
    "        y= length_node/len(single_adjacency)\n",
    "    except:\n",
    "        y=0\n",
    "    stored.append([length_node ,x ,y])"
   ]
  },
  {
   "cell_type": "code",
   "execution_count": 9,
   "metadata": {},
   "outputs": [],
   "source": [
    "text=[]\n",
    "X=[]\n",
    "for row in data.Instructions:\n",
    "    row = ast.literal_eval(row)\n",
    "    for string in row:\n",
    "        word= string.split()[0]\n",
    "        text.append(word)\n",
    "    row=\" \".join(text)\n",
    "    X.append(row)\n",
    "    text=[]"
   ]
  },
  {
   "cell_type": "code",
   "execution_count": 10,
   "metadata": {},
   "outputs": [],
   "source": [
    "tf = TfidfVectorizer(use_idf=True, tokenizer = None )\n",
    "vector= tf.fit_transform(X)\n",
    "stored = sc.sparse.csr_matrix(stored)\n",
    "dataset = hstack((stored, vector))  "
   ]
  },
  {
   "cell_type": "code",
   "execution_count": 11,
   "metadata": {},
   "outputs": [],
   "source": [
    "y = data.Class"
   ]
  },
  {
   "cell_type": "code",
   "execution_count": 12,
   "metadata": {},
   "outputs": [],
   "source": [
    "y = data.Class\n",
    "X_train, X_test, y_train, y_test = train_test_split(dataset, y, test_size=0.3, random_state=20)"
   ]
  },
  {
   "cell_type": "code",
   "execution_count": 13,
   "metadata": {},
   "outputs": [
    {
     "data": {
      "text/plain": [
       "(1822, 187)"
      ]
     },
     "execution_count": 13,
     "metadata": {},
     "output_type": "execute_result"
    }
   ],
   "source": [
    "X_test.shape"
   ]
  },
  {
   "cell_type": "code",
   "execution_count": 14,
   "metadata": {},
   "outputs": [
    {
     "name": "stderr",
     "output_type": "stream",
     "text": [
      "C:\\ProgramData\\Anaconda3\\lib\\site-packages\\sklearn\\linear_model\\_logistic.py:762: ConvergenceWarning: lbfgs failed to converge (status=1):\n",
      "STOP: TOTAL NO. of ITERATIONS REACHED LIMIT.\n",
      "\n",
      "Increase the number of iterations (max_iter) or scale the data as shown in:\n",
      "    https://scikit-learn.org/stable/modules/preprocessing.html\n",
      "Please also refer to the documentation for alternative solver options:\n",
      "    https://scikit-learn.org/stable/modules/linear_model.html#logistic-regression\n",
      "  n_iter_i = _check_optimize_result(\n"
     ]
    },
    {
     "data": {
      "text/plain": [
       "LogisticRegression()"
      ]
     },
     "execution_count": 14,
     "metadata": {},
     "output_type": "execute_result"
    }
   ],
   "source": [
    "model=LogisticRegression()\n",
    "model.fit(X_train, y_train)"
   ]
  },
  {
   "cell_type": "code",
   "execution_count": 15,
   "metadata": {},
   "outputs": [],
   "source": [
    "y_pred = model.predict(X_test)"
   ]
  },
  {
   "cell_type": "code",
   "execution_count": 16,
   "metadata": {},
   "outputs": [
    {
     "data": {
      "image/png": "[encoded data removed]",
      "text/plain": [
       "<Figure size 432x288 with 2 Axes>"
      ]
     },
     "metadata": {},
     "output_type": "display_data"
    }
   ],
   "source": [
    "cm= confusion_matrix(y_test,y_pred)\n",
    "fig1, ax1 = plot_confusion_matrix(conf_mat=cm,colorbar=True,show_absolute=True,show_normed=True)"
   ]
  },
  {
   "cell_type": "code",
   "execution_count": 17,
   "metadata": {},
   "outputs": [
    {
     "name": "stdout",
     "output_type": "stream",
     "text": [
      "              precision    recall  f1-score   support\n",
      "\n",
      "  encryption       0.96      0.95      0.95       312\n",
      "        math       0.99      0.98      0.98       719\n",
      "        sort       0.84      0.63      0.72       167\n",
      "      string       0.91      0.99      0.95       624\n",
      "\n",
      "    accuracy                           0.94      1822\n",
      "   macro avg       0.92      0.89      0.90      1822\n",
      "weighted avg       0.94      0.94      0.94      1822\n",
      "\n"
     ]
    }
   ],
   "source": [
    "print(classification_report(y_test,y_pred))"
   ]
  },
  {
   "cell_type": "code",
   "execution_count": 18,
   "metadata": {},
   "outputs": [
    {
     "name": "stdout",
     "output_type": "stream",
     "text": [
      "Multinomial Model created\n"
     ]
    }
   ],
   "source": [
    "model2 = MultinomialNB()\n",
    "model2.fit(X_train, y_train)\n",
    "print('Multinomial Model created')"
   ]
  },
  {
   "cell_type": "code",
   "execution_count": 19,
   "metadata": {},
   "outputs": [],
   "source": [
    "y_pred = model2.predict(X_test)"
   ]
  },
  {
   "cell_type": "code",
   "execution_count": 20,
   "metadata": {},
   "outputs": [
    {
     "data": {
      "image/png": "[encoded data removed]",
      "text/plain": [
       "<Figure size 432x288 with 2 Axes>"
      ]
     },
     "metadata": {},
     "output_type": "display_data"
    }
   ],
   "source": [
    "cm= confusion_matrix(y_test,y_pred)\n",
    "fig1, ax1 = plot_confusion_matrix(conf_mat=cm,colorbar=True,show_absolute=True,show_normed=True)"
   ]
  },
  {
   "cell_type": "code",
   "execution_count": 21,
   "metadata": {},
   "outputs": [
    {
     "name": "stdout",
     "output_type": "stream",
     "text": [
      "              precision    recall  f1-score   support\n",
      "\n",
      "  encryption       0.79      0.64      0.71       312\n",
      "        math       0.97      0.97      0.97       719\n",
      "        sort       0.75      0.46      0.57       167\n",
      "      string       0.78      0.93      0.85       624\n",
      "\n",
      "    accuracy                           0.85      1822\n",
      "   macro avg       0.82      0.75      0.77      1822\n",
      "weighted avg       0.85      0.85      0.85      1822\n",
      "\n"
     ]
    }
   ],
   "source": [
    "print(classification_report(y_test,y_pred))"
   ]
  },
  {
   "cell_type": "code",
   "execution_count": null,
   "metadata": {},
   "outputs": [],
   "source": []
  }
 ],
 "metadata": {
  "kernelspec": {
   "display_name": "Python 3",
   "language": "python",
   "name": "python3"
  },
  "language_info": {
   "codemirror_mode": {
    "name": "ipython",
    "version": 3
   },
   "file_extension": ".py",
   "mimetype": "text/x-python",
   "name": "python",
   "nbconvert_exporter": "python",
   "pygments_lexer": "ipython3",
   "version": "3.8.3"
  }
 },
 "nbformat": 4,
 "nbformat_minor": 4
}
