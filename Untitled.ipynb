{
 "cells": [
  {
   "cell_type": "code",
   "execution_count": 1,
   "metadata": {},
   "outputs": [],
   "source": [
    "import pandas as pd\n",
    "import numpy as np\n",
    "import math\n",
    "import seaborn as sns\n",
    "import matplotlib.pyplot as plt\n",
    "plt.style.use('fivethirtyeight')\n",
    "import pandas_profiling as pds\n",
    "from sklearn.feature_extraction.text import TfidfVectorizer\n",
    "import scipy as sc\n",
    "import ast\n",
    "from scipy.sparse import hstack"
   ]
  },
  {
   "cell_type": "code",
   "execution_count": 2,
   "metadata": {},
   "outputs": [],
   "source": [
    "from sklearn import linear_model, decomposition, datasets\n",
    "from sklearn.pipeline import Pipeline\n",
    "from sklearn.model_selection import GridSearchCV\n",
    "from sklearn.preprocessing import StandardScaler"
   ]
  },
  {
   "cell_type": "code",
   "execution_count": 3,
   "metadata": {},
   "outputs": [],
   "source": [
    "from sklearn import svm\n",
    "from sklearn.model_selection import train_test_split,cross_val_score, ShuffleSplit, GridSearchCV\n",
    "from sklearn.feature_extraction.text import *\n",
    "from sklearn.linear_model import LogisticRegression\n",
    "from sklearn.ensemble import RandomForestClassifier\n",
    "from sklearn.metrics import confusion_matrix, classification_report\n",
    "from sklearn.naive_bayes import *\n",
    "from mlxtend.plotting import plot_confusion_matrix\n",
    "from mlxtend.evaluate import confusion_matrix"
   ]
  },
  {
   "cell_type": "code",
   "execution_count": 4,
   "metadata": {},
   "outputs": [],
   "source": [
    "data = pd.read_json('noduplicatedataset.json',lines=True)\n",
    "data.drop('id',axis=1, inplace=True)\n",
    "data.rename(columns = {'lista_asm': 'Instructions', 'cfg': 'FlowGraphs' ,'semantic' : 'Class'}, inplace = True)"
   ]
  },
  {
   "cell_type": "code",
   "execution_count": 5,
   "metadata": {},
   "outputs": [],
   "source": [
    "# pds.ProfileReport(data)"
   ]
  },
  {
   "cell_type": "code",
   "execution_count": 6,
   "metadata": {},
   "outputs": [],
   "source": [
    "stored =[]\n",
    "for v in  data['FlowGraphs']:\n",
    "    nodes = v.get('nodes')\n",
    "    adjacency = v.get('adjacency')\n",
    "    length_node = len(nodes)\n",
    "    double_adjaceny = []\n",
    "    single_adjacency = []\n",
    "    for x in adjacency:\n",
    "        try:\n",
    "            double_adjaceny.append((x[0]['id'],x[1]['id'])[0])\n",
    "            \n",
    "        except:\n",
    "            if len(x)!=0:\n",
    "                single_adjacency.append(x[0]['id'])\n",
    "    try:\n",
    "        x = length_node/len(double_adjaceny)\n",
    "    except:\n",
    "        x= 0\n",
    "    try:\n",
    "        y= length_node/len(single_adjacency)\n",
    "    except:\n",
    "        y=0\n",
    "    stored.append([length_node ,x ,y])"
   ]
  },
  {
   "cell_type": "code",
   "execution_count": 7,
   "metadata": {},
   "outputs": [],
   "source": [
    "text=[]\n",
    "X=[]\n",
    "for row in data.Instructions:\n",
    "    row = ast.literal_eval(row)\n",
    "    for string in row:\n",
    "        word= string.split()[0]\n",
    "        text.append(word)\n",
    "    row=\" \".join(text)\n",
    "    X.append(row)\n",
    "    text=[]"
   ]
  },
  {
   "cell_type": "code",
   "execution_count": 8,
   "metadata": {},
   "outputs": [],
   "source": [
    "tf = TfidfVectorizer(use_idf=True, tokenizer = None )\n",
    "vector= tf.fit_transform(X)\n",
    "stored = sc.sparse.csr_matrix(stored)\n",
    "dataset = hstack((stored, vector))  "
   ]
  },
  {
   "cell_type": "code",
   "execution_count": 9,
   "metadata": {},
   "outputs": [],
   "source": [
    "dataset= dataset.toarray()"
   ]
  },
  {
   "cell_type": "code",
   "execution_count": 10,
   "metadata": {},
   "outputs": [],
   "source": [
    "y = data.Class"
   ]
  },
  {
   "cell_type": "code",
   "execution_count": 11,
   "metadata": {},
   "outputs": [],
   "source": [
    "y = data.Class\n",
    "X_train, X_test, y_train, y_test = train_test_split(dataset, y, test_size=0.3, random_state=20)"
   ]
  },
  {
   "cell_type": "code",
   "execution_count": 12,
   "metadata": {},
   "outputs": [],
   "source": [
    "std_slc = StandardScaler()\n",
    "pca = decomposition.PCA()\n",
    "logreg = linear_model.LogisticRegression()\n",
    "pipe = Pipeline(steps=[ ('std_slc', std_slc), ('pca', pca), ('logistic_Reg', logreg)])"
   ]
  },
  {
   "cell_type": "code",
   "execution_count": 13,
   "metadata": {},
   "outputs": [],
   "source": [
    "n_components = list(range(1,X_train.shape[1]+1,1))"
   ]
  },
  {
   "cell_type": "code",
   "execution_count": 14,
   "metadata": {},
   "outputs": [],
   "source": [
    "C = np.logspace(-4, 4, 50)\n",
    "penalty = ['l2']\n",
    "max_iter=[100,200]\n",
    "parameters = dict(pca__n_components=n_components, logistic_Reg__C=C, logistic_Reg__penalty=penalty,logistic_Reg__max_iter = max_iter)"
   ]
  },
  {
   "cell_type": "code",
   "execution_count": 15,
   "metadata": {},
   "outputs": [],
   "source": [
    "n_JobsOnMultiCpuCores=8"
   ]
  },
  {
   "cell_type": "code",
   "execution_count": 16,
   "metadata": {},
   "outputs": [],
   "source": [
    "clf_GS = GridSearchCV(pipe, parameters,cv=10,n_jobs = n_JobsOnMultiCpuCores, verbose = 5)"
   ]
  },
  {
   "cell_type": "code",
   "execution_count": 17,
   "metadata": {},
   "outputs": [
    {
     "name": "stdout",
     "output_type": "stream",
     "text": [
      "Fitting 10 folds for each of 18700 candidates, totalling 187000 fits\n"
     ]
    },
    {
     "name": "stderr",
     "output_type": "stream",
     "text": [
      "[Parallel(n_jobs=8)]: Using backend LokyBackend with 8 concurrent workers.\n",
      "[Parallel(n_jobs=8)]: Done   2 tasks      | elapsed:    1.8s\n",
      "[Parallel(n_jobs=8)]: Done  56 tasks      | elapsed:    3.5s\n",
      "[Parallel(n_jobs=8)]: Done 146 tasks      | elapsed:    6.7s\n",
      "[Parallel(n_jobs=8)]: Done 272 tasks      | elapsed:   11.4s\n",
      "[Parallel(n_jobs=8)]: Done 434 tasks      | elapsed:   18.1s\n",
      "[Parallel(n_jobs=8)]: Done 632 tasks      | elapsed:   27.9s\n",
      "[Parallel(n_jobs=8)]: Done 866 tasks      | elapsed:   41.6s\n",
      "[Parallel(n_jobs=8)]: Done 1136 tasks      | elapsed:  1.0min\n",
      "[Parallel(n_jobs=8)]: Done 1442 tasks      | elapsed:  1.4min\n",
      "[Parallel(n_jobs=8)]: Done 1784 tasks      | elapsed:  1.8min\n",
      "[Parallel(n_jobs=8)]: Done 2162 tasks      | elapsed:  2.1min\n",
      "[Parallel(n_jobs=8)]: Done 2576 tasks      | elapsed:  2.4min\n",
      "[Parallel(n_jobs=8)]: Done 3026 tasks      | elapsed:  2.9min\n",
      "[Parallel(n_jobs=8)]: Done 3512 tasks      | elapsed:  3.5min\n",
      "[Parallel(n_jobs=8)]: Done 4034 tasks      | elapsed:  3.9min\n",
      "[Parallel(n_jobs=8)]: Done 4592 tasks      | elapsed:  4.4min\n",
      "[Parallel(n_jobs=8)]: Done 5186 tasks      | elapsed:  5.2min\n",
      "[Parallel(n_jobs=8)]: Done 5816 tasks      | elapsed:  5.7min\n",
      "[Parallel(n_jobs=8)]: Done 6482 tasks      | elapsed:  6.2min\n",
      "[Parallel(n_jobs=8)]: Done 7184 tasks      | elapsed:  7.1min\n",
      "[Parallel(n_jobs=8)]: Done 7922 tasks      | elapsed:  7.7min\n",
      "[Parallel(n_jobs=8)]: Done 8696 tasks      | elapsed:  8.5min\n",
      "[Parallel(n_jobs=8)]: Done 9506 tasks      | elapsed:  9.4min\n",
      "[Parallel(n_jobs=8)]: Done 10352 tasks      | elapsed: 10.1min\n",
      "[Parallel(n_jobs=8)]: Done 11234 tasks      | elapsed: 11.1min\n",
      "[Parallel(n_jobs=8)]: Done 12152 tasks      | elapsed: 11.8min\n",
      "[Parallel(n_jobs=8)]: Done 13106 tasks      | elapsed: 13.0min\n",
      "[Parallel(n_jobs=8)]: Done 14096 tasks      | elapsed: 13.8min\n",
      "[Parallel(n_jobs=8)]: Done 15122 tasks      | elapsed: 14.9min\n",
      "[Parallel(n_jobs=8)]: Done 16184 tasks      | elapsed: 15.9min\n",
      "[Parallel(n_jobs=8)]: Done 17282 tasks      | elapsed: 17.5min\n",
      "[Parallel(n_jobs=8)]: Done 18416 tasks      | elapsed: 18.8min\n",
      "[Parallel(n_jobs=8)]: Done 19586 tasks      | elapsed: 19.7min\n",
      "[Parallel(n_jobs=8)]: Done 20792 tasks      | elapsed: 21.0min\n",
      "[Parallel(n_jobs=8)]: Done 22034 tasks      | elapsed: 22.3min\n",
      "[Parallel(n_jobs=8)]: Done 23312 tasks      | elapsed: 23.3min\n",
      "[Parallel(n_jobs=8)]: Done 24626 tasks      | elapsed: 24.7min\n",
      "[Parallel(n_jobs=8)]: Done 25976 tasks      | elapsed: 26.2min\n",
      "[Parallel(n_jobs=8)]: Done 27362 tasks      | elapsed: 27.4min\n",
      "[Parallel(n_jobs=8)]: Done 28784 tasks      | elapsed: 28.8min\n",
      "[Parallel(n_jobs=8)]: Done 30242 tasks      | elapsed: 30.4min\n",
      "[Parallel(n_jobs=8)]: Done 31736 tasks      | elapsed: 32.0min\n",
      "[Parallel(n_jobs=8)]: Done 33266 tasks      | elapsed: 33.7min\n",
      "[Parallel(n_jobs=8)]: Done 34832 tasks      | elapsed: 35.2min\n",
      "[Parallel(n_jobs=8)]: Done 36434 tasks      | elapsed: 37.1min\n",
      "[Parallel(n_jobs=8)]: Done 38072 tasks      | elapsed: 38.9min\n",
      "[Parallel(n_jobs=8)]: Done 39746 tasks      | elapsed: 40.6min\n",
      "[Parallel(n_jobs=8)]: Done 41456 tasks      | elapsed: 42.5min\n",
      "[Parallel(n_jobs=8)]: Done 43202 tasks      | elapsed: 44.4min\n",
      "[Parallel(n_jobs=8)]: Done 44984 tasks      | elapsed: 46.5min\n",
      "[Parallel(n_jobs=8)]: Done 46802 tasks      | elapsed: 48.6min\n",
      "[Parallel(n_jobs=8)]: Done 48656 tasks      | elapsed: 50.7min\n",
      "[Parallel(n_jobs=8)]: Done 50546 tasks      | elapsed: 52.9min\n",
      "[Parallel(n_jobs=8)]: Done 52472 tasks      | elapsed: 55.8min\n",
      "[Parallel(n_jobs=8)]: Done 54434 tasks      | elapsed: 58.1min\n",
      "[Parallel(n_jobs=8)]: Done 56432 tasks      | elapsed: 60.4min\n",
      "[Parallel(n_jobs=8)]: Done 58466 tasks      | elapsed: 62.9min\n",
      "[Parallel(n_jobs=8)]: Done 60536 tasks      | elapsed: 65.6min\n",
      "[Parallel(n_jobs=8)]: Done 62642 tasks      | elapsed: 68.3min\n",
      "[Parallel(n_jobs=8)]: Done 64784 tasks      | elapsed: 71.5min\n",
      "[Parallel(n_jobs=8)]: Done 66962 tasks      | elapsed: 75.1min\n",
      "[Parallel(n_jobs=8)]: Done 69176 tasks      | elapsed: 78.3min\n",
      "[Parallel(n_jobs=8)]: Done 71426 tasks      | elapsed: 81.5min\n",
      "[Parallel(n_jobs=8)]: Done 73712 tasks      | elapsed: 85.1min\n",
      "[Parallel(n_jobs=8)]: Done 76034 tasks      | elapsed: 88.6min\n",
      "[Parallel(n_jobs=8)]: Done 78392 tasks      | elapsed: 92.5min\n",
      "[Parallel(n_jobs=8)]: Done 80786 tasks      | elapsed: 96.4min\n",
      "[Parallel(n_jobs=8)]: Done 83216 tasks      | elapsed: 101.0min\n",
      "[Parallel(n_jobs=8)]: Done 85682 tasks      | elapsed: 105.6min\n",
      "[Parallel(n_jobs=8)]: Done 88184 tasks      | elapsed: 109.7min\n",
      "[Parallel(n_jobs=8)]: Done 90722 tasks      | elapsed: 114.2min\n",
      "[Parallel(n_jobs=8)]: Done 93296 tasks      | elapsed: 119.4min\n",
      "[Parallel(n_jobs=8)]: Done 95906 tasks      | elapsed: 123.7min\n",
      "[Parallel(n_jobs=8)]: Done 98552 tasks      | elapsed: 129.2min\n",
      "[Parallel(n_jobs=8)]: Done 101234 tasks      | elapsed: 135.0min\n",
      "[Parallel(n_jobs=8)]: Done 103952 tasks      | elapsed: 140.0min\n",
      "[Parallel(n_jobs=8)]: Done 106706 tasks      | elapsed: 145.6min\n",
      "[Parallel(n_jobs=8)]: Done 109496 tasks      | elapsed: 151.4min\n",
      "[Parallel(n_jobs=8)]: Done 112322 tasks      | elapsed: 158.9min\n",
      "[Parallel(n_jobs=8)]: Done 115184 tasks      | elapsed: 165.1min\n",
      "[Parallel(n_jobs=8)]: Done 118082 tasks      | elapsed: 172.6min\n",
      "[Parallel(n_jobs=8)]: Done 121016 tasks      | elapsed: 179.9min\n",
      "[Parallel(n_jobs=8)]: Done 123986 tasks      | elapsed: 186.7min\n",
      "[Parallel(n_jobs=8)]: Done 126992 tasks      | elapsed: 193.8min\n",
      "[Parallel(n_jobs=8)]: Done 130034 tasks      | elapsed: 199.7min\n",
      "[Parallel(n_jobs=8)]: Done 133112 tasks      | elapsed: 206.0min\n",
      "[Parallel(n_jobs=8)]: Done 136226 tasks      | elapsed: 212.7min\n",
      "[Parallel(n_jobs=8)]: Done 139376 tasks      | elapsed: 219.1min\n",
      "[Parallel(n_jobs=8)]: Done 142562 tasks      | elapsed: 226.0min\n",
      "[Parallel(n_jobs=8)]: Done 145784 tasks      | elapsed: 233.0min\n",
      "[Parallel(n_jobs=8)]: Done 149042 tasks      | elapsed: 239.1min\n",
      "[Parallel(n_jobs=8)]: Done 152336 tasks      | elapsed: 246.0min\n",
      "[Parallel(n_jobs=8)]: Done 155666 tasks      | elapsed: 252.7min\n",
      "[Parallel(n_jobs=8)]: Done 159032 tasks      | elapsed: 259.7min\n",
      "[Parallel(n_jobs=8)]: Done 162434 tasks      | elapsed: 266.5min\n",
      "[Parallel(n_jobs=8)]: Done 165872 tasks      | elapsed: 273.4min\n",
      "[Parallel(n_jobs=8)]: Done 169346 tasks      | elapsed: 281.4min\n",
      "[Parallel(n_jobs=8)]: Done 172856 tasks      | elapsed: 288.5min\n",
      "[Parallel(n_jobs=8)]: Done 176402 tasks      | elapsed: 295.7min\n",
      "[Parallel(n_jobs=8)]: Done 179984 tasks      | elapsed: 303.0min\n",
      "[Parallel(n_jobs=8)]: Done 183602 tasks      | elapsed: 310.6min\n",
      "[Parallel(n_jobs=8)]: Done 187000 out of 187000 | elapsed: 317.9min finished\n",
      "C:\\ProgramData\\Anaconda3\\lib\\site-packages\\sklearn\\linear_model\\_logistic.py:762: ConvergenceWarning: lbfgs failed to converge (status=1):\n",
      "STOP: TOTAL NO. of ITERATIONS REACHED LIMIT.\n",
      "\n",
      "Increase the number of iterations (max_iter) or scale the data as shown in:\n",
      "    https://scikit-learn.org/stable/modules/preprocessing.html\n",
      "Please also refer to the documentation for alternative solver options:\n",
      "    https://scikit-learn.org/stable/modules/linear_model.html#logistic-regression\n",
      "  n_iter_i = _check_optimize_result(\n"
     ]
    },
    {
     "data": {
      "text/plain": [
       "GridSearchCV(cv=10,\n",
       "             estimator=Pipeline(steps=[('std_slc', StandardScaler()),\n",
       "                                       ('pca', PCA()),\n",
       "                                       ('logistic_Reg', LogisticRegression())]),\n",
       "             n_jobs=8,\n",
       "             param_grid={'logistic_Reg__C': array([1.00000000e-04, 1.45634848e-04, 2.12095089e-04, 3.08884360e-04,\n",
       "       4.49843267e-04, 6.55128557e-04, 9.54095476e-04, 1.38949549e-03,\n",
       "       2.02358965e-03, 2.94705170e-03, 4.29193426e-03, 6.25055193e...\n",
       "       7.54312006e+01, 1.09854114e+02, 1.59985872e+02, 2.32995181e+02,\n",
       "       3.39322177e+02, 4.94171336e+02, 7.19685673e+02, 1.04811313e+03,\n",
       "       1.52641797e+03, 2.22299648e+03, 3.23745754e+03, 4.71486636e+03,\n",
       "       6.86648845e+03, 1.00000000e+04]),\n",
       "                         'logistic_Reg__max_iter': [100, 200],\n",
       "                         'logistic_Reg__penalty': ['l2'],\n",
       "                         'pca__n_components': [1, 2, 3, 4, 5, 6, 7, 8, 9, 10,\n",
       "                                               11, 12, 13, 14, 15, 16, 17, 18,\n",
       "                                               19, 20, 21, 22, 23, 24, 25, 26,\n",
       "                                               27, 28, 29, 30, ...]},\n",
       "             verbose=5)"
      ]
     },
     "execution_count": 17,
     "metadata": {},
     "output_type": "execute_result"
    }
   ],
   "source": [
    "clf_GS.fit(X_train, y_train)"
   ]
  },
  {
   "cell_type": "code",
   "execution_count": null,
   "metadata": {},
   "outputs": [],
   "source": [
    "print(clf_GS.best_estimator_.get_params()['logistic_Reg'])"
   ]
  },
  {
   "cell_type": "code",
   "execution_count": null,
   "metadata": {},
   "outputs": [],
   "source": [
    "model=LogisticRegression()\n",
    "model.fit(X_train, y_train)"
   ]
  },
  {
   "cell_type": "code",
   "execution_count": null,
   "metadata": {},
   "outputs": [],
   "source": [
    "y_pred = model.predict(X_test)"
   ]
  },
  {
   "cell_type": "code",
   "execution_count": null,
   "metadata": {},
   "outputs": [],
   "source": [
    "cm= confusion_matrix(y_test,y_pred)\n",
    "fig1, ax1 = plot_confusion_matrix(conf_mat=cm,colorbar=True,show_absolute=True,show_normed=True)"
   ]
  },
  {
   "cell_type": "code",
   "execution_count": null,
   "metadata": {},
   "outputs": [],
   "source": [
    "print(classification_report(y_test,y_pred))"
   ]
  },
  {
   "cell_type": "code",
   "execution_count": null,
   "metadata": {},
   "outputs": [],
   "source": []
  }
 ],
 "metadata": {
  "kernelspec": {
   "display_name": "Python 3",
   "language": "python",
   "name": "python3"
  },
  "language_info": {
   "codemirror_mode": {
    "name": "ipython",
    "version": 3
   },
   "file_extension": ".py",
   "mimetype": "text/x-python",
   "name": "python",
   "nbconvert_exporter": "python",
   "pygments_lexer": "ipython3",
   "version": "3.8.3"
  }
 },
 "nbformat": 4,
 "nbformat_minor": 4
}
